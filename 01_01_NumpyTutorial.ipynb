{
 "cells": [
  {
   "cell_type": "markdown",
   "id": "be14c517",
   "metadata": {},
   "source": [
    "# Numpy Tutorial"
   ]
  },
  {
   "cell_type": "code",
   "execution_count": 1,
   "id": "90ab4c4e",
   "metadata": {},
   "outputs": [],
   "source": [
    "import numpy as np"
   ]
  },
  {
   "cell_type": "code",
   "execution_count": 2,
   "id": "b814260c",
   "metadata": {},
   "outputs": [],
   "source": [
    "an_array = np.array([3, 33, 333])"
   ]
  },
  {
   "cell_type": "code",
   "execution_count": 3,
   "id": "885c63d4",
   "metadata": {},
   "outputs": [
    {
     "name": "stdout",
     "output_type": "stream",
     "text": [
      "type:  <class 'numpy.ndarray'>\n",
      "shape:  (3,)\n"
     ]
    }
   ],
   "source": [
    "print('type: ',type(an_array))\n",
    "print('shape: ', an_array.shape)"
   ]
  },
  {
   "cell_type": "code",
   "execution_count": 4,
   "id": "326a97d6",
   "metadata": {},
   "outputs": [
    {
     "name": "stdout",
     "output_type": "stream",
     "text": [
      "3\n",
      "33\n",
      "333\n"
     ]
    }
   ],
   "source": [
    "print(an_array[0])\n",
    "print(an_array[1])\n",
    "print(an_array[2])"
   ]
  },
  {
   "cell_type": "code",
   "execution_count": 5,
   "id": "3fbde0fc",
   "metadata": {},
   "outputs": [
    {
     "name": "stdout",
     "output_type": "stream",
     "text": [
      "[888  33 333]\n"
     ]
    }
   ],
   "source": [
    "an_array[0] = 888\n",
    "print(an_array)"
   ]
  },
  {
   "cell_type": "code",
   "execution_count": 6,
   "id": "170de6b6",
   "metadata": {},
   "outputs": [
    {
     "name": "stdout",
     "output_type": "stream",
     "text": [
      "[[11 12 13]\n",
      " [21 22 23]]\n"
     ]
    }
   ],
   "source": [
    "another = np.array([[11,12,13],[21,22,23]])\n",
    "print(another)"
   ]
  },
  {
   "cell_type": "code",
   "execution_count": 7,
   "id": "ad794ff3",
   "metadata": {},
   "outputs": [
    {
     "name": "stdout",
     "output_type": "stream",
     "text": [
      "shape:  (2, 3)\n",
      "11 12 21\n"
     ]
    }
   ],
   "source": [
    "print('shape: ',another.shape)\n",
    "print(another[0,0],another[0,1],another[1,0])"
   ]
  },
  {
   "cell_type": "code",
   "execution_count": 8,
   "id": "828d7c56",
   "metadata": {},
   "outputs": [
    {
     "name": "stdout",
     "output_type": "stream",
     "text": [
      "[[0. 0.]\n",
      " [0. 0.]]\n"
     ]
    }
   ],
   "source": [
    "ex1 = np.zeros((2,2))\n",
    "print(ex1)"
   ]
  },
  {
   "cell_type": "code",
   "execution_count": 9,
   "id": "e13eee08",
   "metadata": {},
   "outputs": [
    {
     "name": "stdout",
     "output_type": "stream",
     "text": [
      "[[9. 9.]\n",
      " [9. 9.]]\n"
     ]
    }
   ],
   "source": [
    "ex2 = np.full((2,2), 9.0)\n",
    "print(ex2)"
   ]
  },
  {
   "cell_type": "code",
   "execution_count": 10,
   "id": "6af8a645",
   "metadata": {},
   "outputs": [
    {
     "name": "stdout",
     "output_type": "stream",
     "text": [
      "[[1. 0.]\n",
      " [0. 1.]]\n"
     ]
    }
   ],
   "source": [
    "ex3 = np.eye(2,2)\n",
    "print(ex3)"
   ]
  },
  {
   "cell_type": "code",
   "execution_count": 11,
   "id": "34a6268d",
   "metadata": {},
   "outputs": [
    {
     "name": "stdout",
     "output_type": "stream",
     "text": [
      "[[1. 1.]]\n"
     ]
    }
   ],
   "source": [
    "ex4 = np.ones((1,2))\n",
    "print(ex4)"
   ]
  },
  {
   "cell_type": "code",
   "execution_count": 12,
   "id": "d46c1884",
   "metadata": {},
   "outputs": [
    {
     "name": "stdout",
     "output_type": "stream",
     "text": [
      "(1, 2)\n",
      "\n",
      "1.0\n"
     ]
    }
   ],
   "source": [
    "print(ex4.shape)\n",
    "print()\n",
    "print(ex4[0,1])"
   ]
  },
  {
   "cell_type": "code",
   "execution_count": 13,
   "id": "c7530d9d",
   "metadata": {},
   "outputs": [
    {
     "name": "stdout",
     "output_type": "stream",
     "text": [
      "[[0.96113048 0.07710612]\n",
      " [0.31649589 0.19680481]]\n"
     ]
    }
   ],
   "source": [
    "ex5 = np.random.random((2,2))  # np.random.random(): 0 ~ 1 사이\n",
    "print(ex5)"
   ]
  },
  {
   "cell_type": "code",
   "execution_count": 15,
   "id": "2a30c726",
   "metadata": {},
   "outputs": [
    {
     "name": "stdout",
     "output_type": "stream",
     "text": [
      "[[11 12 13 14]\n",
      " [21 22 23 24]\n",
      " [31 32 33 34]]\n"
     ]
    }
   ],
   "source": [
    "an_array = np.array([[11,12,13,14],[21,22,23,24],[31,32,33,34]])\n",
    "print(an_array)"
   ]
  },
  {
   "cell_type": "code",
   "execution_count": 16,
   "id": "439d0bf9",
   "metadata": {},
   "outputs": [
    {
     "name": "stdout",
     "output_type": "stream",
     "text": [
      "[[12 13]\n",
      " [22 23]]\n"
     ]
    }
   ],
   "source": [
    "a_slice = an_array[:2, 1:3]\n",
    "print(a_slice)"
   ]
  },
  {
   "cell_type": "code",
   "execution_count": 17,
   "id": "0f1c4566",
   "metadata": {},
   "outputs": [
    {
     "name": "stdout",
     "output_type": "stream",
     "text": [
      "12\n"
     ]
    }
   ],
   "source": [
    "print(an_array[0, 1])"
   ]
  },
  {
   "cell_type": "code",
   "execution_count": 18,
   "id": "fb8e3a2b",
   "metadata": {},
   "outputs": [
    {
     "name": "stdout",
     "output_type": "stream",
     "text": [
      "[[  11 1000   13   14]\n",
      " [  21   22   23   24]\n",
      " [  31   32   33   34]]\n"
     ]
    }
   ],
   "source": [
    "# 슬라이싱한 원소를 변경해도 원래 배열에 영향을 준다\n",
    "a_slice[0, 0] = 1000\n",
    "print(an_array)"
   ]
  },
  {
   "cell_type": "code",
   "execution_count": 19,
   "id": "c794431d",
   "metadata": {},
   "outputs": [
    {
     "name": "stdout",
     "output_type": "stream",
     "text": [
      "[[11 12 13 14]\n",
      " [21 22 23 24]\n",
      " [31 32 33 34]]\n"
     ]
    }
   ],
   "source": [
    "an_array = np.array([[11,12,13,14],[21,22,23,24],[31,32,33,34]])\n",
    "print(an_array)"
   ]
  },
  {
   "cell_type": "code",
   "execution_count": 20,
   "id": "288301b6",
   "metadata": {},
   "outputs": [
    {
     "name": "stdout",
     "output_type": "stream",
     "text": [
      "[21 22 23 24]\n",
      "(4,)\n"
     ]
    }
   ],
   "source": [
    "row_rank1 = an_array[1, :]  # 하나의 행을 선택\n",
    "print(row_rank1)\n",
    "print(row_rank1.shape)  # 1차원이다"
   ]
  },
  {
   "cell_type": "code",
   "execution_count": 21,
   "id": "4101a5b1",
   "metadata": {},
   "outputs": [
    {
     "name": "stdout",
     "output_type": "stream",
     "text": [
      "[[21 22 23 24]]\n",
      "(1, 4)\n"
     ]
    }
   ],
   "source": [
    "row_rank2 = an_array[1:2, :]  # 슬라이싱\n",
    "print(row_rank2)\n",
    "print(row_rank2.shape)  # 2차원이다"
   ]
  },
  {
   "cell_type": "code",
   "execution_count": 22,
   "id": "9231299c",
   "metadata": {},
   "outputs": [
    {
     "name": "stdout",
     "output_type": "stream",
     "text": [
      "[12 22 32] (3,)\n",
      "\n",
      "[[12]\n",
      " [22]\n",
      " [32]] (3, 1)\n"
     ]
    }
   ],
   "source": [
    "col_rank1 = an_array[:, 1]\n",
    "col_rank2 = an_array[:, 1:2]\n",
    "\n",
    "print(col_rank1, col_rank1.shape)  # 1차원\n",
    "print()\n",
    "print(col_rank2, col_rank2.shape)  # 2차원"
   ]
  },
  {
   "cell_type": "code",
   "execution_count": 34,
   "id": "bb13e14c",
   "metadata": {},
   "outputs": [
    {
     "name": "stdout",
     "output_type": "stream",
     "text": [
      "[[11 12 13]\n",
      " [21 22 23]\n",
      " [31 32 33]\n",
      " [41 42 43]]\n"
     ]
    }
   ],
   "source": [
    "an_array = np.array([[11,12,13], [21,22,23], [31,32,33], [41,42,43]])\n",
    "print(an_array)"
   ]
  },
  {
   "cell_type": "code",
   "execution_count": 35,
   "id": "4f082765",
   "metadata": {},
   "outputs": [
    {
     "name": "stdout",
     "output_type": "stream",
     "text": [
      "[0 1 2 0]\n"
     ]
    }
   ],
   "source": [
    "col_indices = np.array([0,1,2,0])\n",
    "print(col_indices)"
   ]
  },
  {
   "cell_type": "code",
   "execution_count": 36,
   "id": "69c82bed",
   "metadata": {},
   "outputs": [
    {
     "name": "stdout",
     "output_type": "stream",
     "text": [
      "[0 1 2 3]\n"
     ]
    }
   ],
   "source": [
    "row_indices = np.arange(4)\n",
    "print(row_indices)"
   ]
  },
  {
   "cell_type": "code",
   "execution_count": 37,
   "id": "777e713d",
   "metadata": {},
   "outputs": [
    {
     "name": "stdout",
     "output_type": "stream",
     "text": [
      "0 , 0\n",
      "1 , 1\n",
      "2 , 2\n",
      "3 , 0\n"
     ]
    }
   ],
   "source": [
    "for row, col in zip(row_indices, col_indices):\n",
    "    print(row, ',' ,col)"
   ]
  },
  {
   "cell_type": "code",
   "execution_count": 38,
   "id": "fd9c6941",
   "metadata": {},
   "outputs": [
    {
     "name": "stdout",
     "output_type": "stream",
     "text": [
      "[11 22 33 41]\n"
     ]
    }
   ],
   "source": [
    "print(an_array[row_indices, col_indices])  # 각 리스트를 짝지은 좌표에 속하는 원소"
   ]
  },
  {
   "cell_type": "code",
   "execution_count": 39,
   "id": "21bf54fb",
   "metadata": {},
   "outputs": [
    {
     "name": "stdout",
     "output_type": "stream",
     "text": [
      "[[100011     12     13]\n",
      " [    21 100022     23]\n",
      " [    31     32 100033]\n",
      " [100041     42     43]]\n"
     ]
    }
   ],
   "source": [
    "an_array[row_indices, col_indices] += 100000\n",
    "print(an_array)"
   ]
  },
  {
   "cell_type": "code",
   "execution_count": 40,
   "id": "b2998328",
   "metadata": {},
   "outputs": [
    {
     "name": "stdout",
     "output_type": "stream",
     "text": [
      "[[11 12]\n",
      " [21 22]\n",
      " [31 32]]\n"
     ]
    }
   ],
   "source": [
    "an_array = np.array([[11,12],[21,22],[31,32]])\n",
    "print(an_array)"
   ]
  },
  {
   "cell_type": "code",
   "execution_count": 41,
   "id": "3c62e1c0",
   "metadata": {},
   "outputs": [
    {
     "data": {
      "text/plain": [
       "array([[False, False],\n",
       "       [ True,  True],\n",
       "       [ True,  True]])"
      ]
     },
     "execution_count": 41,
     "metadata": {},
     "output_type": "execute_result"
    }
   ],
   "source": [
    "filter = (an_array > 15)\n",
    "filter"
   ]
  },
  {
   "cell_type": "code",
   "execution_count": 42,
   "id": "4899334e",
   "metadata": {},
   "outputs": [
    {
     "name": "stdout",
     "output_type": "stream",
     "text": [
      "[21 22 31 32]\n"
     ]
    }
   ],
   "source": [
    "print(an_array[filter])  # 필터링한 원소가 한 줄로 출력"
   ]
  },
  {
   "cell_type": "code",
   "execution_count": 43,
   "id": "cbcb94dd",
   "metadata": {},
   "outputs": [
    {
     "data": {
      "text/plain": [
       "array([12, 22, 32])"
      ]
     },
     "execution_count": 43,
     "metadata": {},
     "output_type": "execute_result"
    }
   ],
   "source": [
    "an_array[(an_array % 2 == 0)]  # 짝수인 원소"
   ]
  },
  {
   "cell_type": "code",
   "execution_count": 44,
   "id": "4f76e3d8",
   "metadata": {},
   "outputs": [
    {
     "name": "stdout",
     "output_type": "stream",
     "text": [
      "[[ 11 112]\n",
      " [ 21 122]\n",
      " [ 31 132]]\n"
     ]
    }
   ],
   "source": [
    "an_array[an_array % 2 == 0] += 100\n",
    "print(an_array)"
   ]
  },
  {
   "cell_type": "code",
   "execution_count": 45,
   "id": "d699bdae",
   "metadata": {},
   "outputs": [
    {
     "name": "stdout",
     "output_type": "stream",
     "text": [
      "int32\n"
     ]
    }
   ],
   "source": [
    "ex1 = np.array([11,12])\n",
    "print(ex1.dtype)  # 데이터타입"
   ]
  },
  {
   "cell_type": "code",
   "execution_count": 46,
   "id": "ce0c2cdc",
   "metadata": {},
   "outputs": [
    {
     "name": "stdout",
     "output_type": "stream",
     "text": [
      "float64\n"
     ]
    }
   ],
   "source": [
    "ex2 = np.array([11.0, 12.0])\n",
    "print(ex2.dtype)"
   ]
  },
  {
   "cell_type": "code",
   "execution_count": 47,
   "id": "81f20051",
   "metadata": {},
   "outputs": [
    {
     "name": "stdout",
     "output_type": "stream",
     "text": [
      "int64\n"
     ]
    }
   ],
   "source": [
    "ex3 = np.array([11,21], dtype=np.int64)  # dtype으로 데이터타입 직접 지정\n",
    "print(ex3.dtype)"
   ]
  },
  {
   "cell_type": "code",
   "execution_count": 48,
   "id": "64bc4ded",
   "metadata": {},
   "outputs": [
    {
     "name": "stdout",
     "output_type": "stream",
     "text": [
      "[11 12]\n"
     ]
    }
   ],
   "source": [
    "ex4 = np.array([11.1,12.7], dtype=np.int64)  # float 소수점 부분이 사라짐\n",
    "print(ex4)"
   ]
  },
  {
   "cell_type": "code",
   "execution_count": 49,
   "id": "d2662c22",
   "metadata": {},
   "outputs": [
    {
     "name": "stdout",
     "output_type": "stream",
     "text": [
      "int64\n"
     ]
    }
   ],
   "source": [
    "print(ex4.dtype)"
   ]
  },
  {
   "cell_type": "code",
   "execution_count": 50,
   "id": "9efacc0f",
   "metadata": {},
   "outputs": [
    {
     "name": "stdout",
     "output_type": "stream",
     "text": [
      "float64\n",
      "\n",
      "[11. 21.]\n"
     ]
    }
   ],
   "source": [
    "ex5 = np.array([11,21], dtype=np.float64)\n",
    "print(ex5.dtype)\n",
    "print()\n",
    "print(ex5)"
   ]
  },
  {
   "cell_type": "markdown",
   "id": "59bcec8d",
   "metadata": {},
   "source": [
    "### 연산"
   ]
  },
  {
   "cell_type": "code",
   "execution_count": 51,
   "id": "b44047a6",
   "metadata": {},
   "outputs": [
    {
     "name": "stdout",
     "output_type": "stream",
     "text": [
      "[[111 112]\n",
      " [121 122]]\n",
      "\n",
      "[[211.1 212.1]\n",
      " [221.1 222.1]]\n"
     ]
    },
    {
     "name": "stderr",
     "output_type": "stream",
     "text": [
      "<ipython-input-51-71703579d722>:1: DeprecationWarning: `np.int` is a deprecated alias for the builtin `int`. To silence this warning, use `int` by itself. Doing this will not modify any behavior and is safe. When replacing `np.int`, you may wish to use e.g. `np.int64` or `np.int32` to specify the precision. If you wish to review your current use, check the release note link for additional information.\n",
      "Deprecated in NumPy 1.20; for more details and guidance: https://numpy.org/devdocs/release/1.20.0-notes.html#deprecations\n",
      "  x = np.array([[111,112],[121,122]], dtype=np.int)\n"
     ]
    }
   ],
   "source": [
    "x = np.array([[111,112],[121,122]], dtype=np.int)\n",
    "y = np.array([[211.1,212.1],[221.1,222.1]], dtype=np.float64)\n",
    "\n",
    "print(x)\n",
    "print()\n",
    "print(y)"
   ]
  },
  {
   "cell_type": "code",
   "execution_count": 52,
   "id": "9125b2ff",
   "metadata": {},
   "outputs": [
    {
     "name": "stdout",
     "output_type": "stream",
     "text": [
      "[[322.1 324.1]\n",
      " [342.1 344.1]]\n",
      "\n",
      "[[322.1 324.1]\n",
      " [342.1 344.1]]\n"
     ]
    }
   ],
   "source": [
    "print(x + y)\n",
    "print()\n",
    "print(np.add(x, y))"
   ]
  },
  {
   "cell_type": "code",
   "execution_count": 53,
   "id": "1f409927",
   "metadata": {},
   "outputs": [
    {
     "name": "stdout",
     "output_type": "stream",
     "text": [
      "[[-100.1 -100.1]\n",
      " [-100.1 -100.1]]\n",
      "\n",
      "[[-100.1 -100.1]\n",
      " [-100.1 -100.1]]\n"
     ]
    }
   ],
   "source": [
    "print(x - y)\n",
    "print()\n",
    "print(np.subtract(x, y))"
   ]
  },
  {
   "cell_type": "code",
   "execution_count": 54,
   "id": "0e178b02",
   "metadata": {},
   "outputs": [
    {
     "name": "stdout",
     "output_type": "stream",
     "text": [
      "[[23432.1 23755.2]\n",
      " [26753.1 27096.2]]\n",
      "\n",
      "[[23432.1 23755.2]\n",
      " [26753.1 27096.2]]\n"
     ]
    }
   ],
   "source": [
    "print(x * y)\n",
    "print()\n",
    "print(np.multiply(x, y))"
   ]
  },
  {
   "cell_type": "code",
   "execution_count": 55,
   "id": "9fb85714",
   "metadata": {},
   "outputs": [
    {
     "name": "stdout",
     "output_type": "stream",
     "text": [
      "[[0.52581715 0.52805281]\n",
      " [0.54726368 0.54930212]]\n",
      "\n",
      "[[0.52581715 0.52805281]\n",
      " [0.54726368 0.54930212]]\n"
     ]
    }
   ],
   "source": [
    "print(x / y)\n",
    "print()\n",
    "print(np.divide(x, y))"
   ]
  },
  {
   "cell_type": "code",
   "execution_count": 56,
   "id": "130e23a9",
   "metadata": {},
   "outputs": [
    {
     "name": "stdout",
     "output_type": "stream",
     "text": [
      "[[10.53565375 10.58300524]\n",
      " [11.         11.04536102]]\n"
     ]
    }
   ],
   "source": [
    "print(np.sqrt(x))"
   ]
  },
  {
   "cell_type": "code",
   "execution_count": 57,
   "id": "b0a3d4d7",
   "metadata": {},
   "outputs": [
    {
     "name": "stdout",
     "output_type": "stream",
     "text": [
      "[[1.60948707e+48 4.37503945e+48]\n",
      " [3.54513118e+52 9.63666567e+52]]\n"
     ]
    }
   ],
   "source": [
    "print(np.exp(x))  # e ** x"
   ]
  },
  {
   "cell_type": "markdown",
   "id": "0c09cc07",
   "metadata": {},
   "source": [
    "### 기본 통계"
   ]
  },
  {
   "cell_type": "code",
   "execution_count": 58,
   "id": "780f920b",
   "metadata": {},
   "outputs": [
    {
     "name": "stdout",
     "output_type": "stream",
     "text": [
      "[[ 12.08077047   2.61606528 -16.08286959 -17.85395699   0.62527835]\n",
      " [ -0.99077657  -4.64610109   7.57579688   2.00459269   1.05125884]]\n"
     ]
    }
   ],
   "source": [
    "arr = 10 * np.random.randn(2, 5)\n",
    "print(arr)"
   ]
  },
  {
   "cell_type": "code",
   "execution_count": 59,
   "id": "7a5f11df",
   "metadata": {},
   "outputs": [
    {
     "name": "stdout",
     "output_type": "stream",
     "text": [
      "-1.3619941736027703\n"
     ]
    }
   ],
   "source": [
    "print(arr.mean())  # 평균"
   ]
  },
  {
   "cell_type": "code",
   "execution_count": 60,
   "id": "224dd1d8",
   "metadata": {},
   "outputs": [
    {
     "name": "stdout",
     "output_type": "stream",
     "text": [
      "[-3.7229425   0.99895415]\n"
     ]
    }
   ],
   "source": [
    "print(arr.mean(axis=1))  # 열 기준 평균"
   ]
  },
  {
   "cell_type": "code",
   "execution_count": 61,
   "id": "e8fbe5c7",
   "metadata": {},
   "outputs": [
    {
     "name": "stdout",
     "output_type": "stream",
     "text": [
      "[ 5.54499695 -1.01501791 -4.25353635 -7.92468215  0.83826859]\n"
     ]
    }
   ],
   "source": [
    "print(arr.mean(axis=0))  # 행 기준 평균"
   ]
  },
  {
   "cell_type": "code",
   "execution_count": 62,
   "id": "98cad95d",
   "metadata": {},
   "outputs": [
    {
     "name": "stdout",
     "output_type": "stream",
     "text": [
      "-13.619941736027704\n"
     ]
    }
   ],
   "source": [
    "print(arr.sum())  # 합계"
   ]
  },
  {
   "cell_type": "code",
   "execution_count": 63,
   "id": "5cc07b07",
   "metadata": {},
   "outputs": [
    {
     "name": "stdout",
     "output_type": "stream",
     "text": [
      "[0.62527835 1.05125884]\n"
     ]
    }
   ],
   "source": [
    "print(np.median(arr, axis=1))  # 중앙값"
   ]
  },
  {
   "cell_type": "markdown",
   "id": "a00a413a",
   "metadata": {},
   "source": [
    "### Sorting"
   ]
  },
  {
   "cell_type": "code",
   "execution_count": 1,
   "id": "04762aa3",
   "metadata": {},
   "outputs": [
    {
     "name": "stdout",
     "output_type": "stream",
     "text": [
      "[ 1.75441269 -0.18076018  0.23268711  0.04005952 -1.80433856  0.94580831\n",
      "  0.76884918 -0.81759336  0.11215169 -1.32808002]\n"
     ]
    }
   ],
   "source": [
    "import numpy as np\n",
    "\n",
    "unsorted = np.random.randn(10)\n",
    "print(unsorted)"
   ]
  },
  {
   "cell_type": "code",
   "execution_count": 2,
   "id": "0a342f65",
   "metadata": {},
   "outputs": [
    {
     "name": "stdout",
     "output_type": "stream",
     "text": [
      "[-1.80433856 -1.32808002 -0.81759336 -0.18076018  0.04005952  0.11215169\n",
      "  0.23268711  0.76884918  0.94580831  1.75441269]\n",
      "\n",
      "[ 1.75441269 -0.18076018  0.23268711  0.04005952 -1.80433856  0.94580831\n",
      "  0.76884918 -0.81759336  0.11215169 -1.32808002]\n"
     ]
    }
   ],
   "source": [
    "sorted_ = np.array(unsorted)\n",
    "sorted_.sort()\n",
    "print(sorted_)\n",
    "print()\n",
    "print(unsorted)"
   ]
  },
  {
   "cell_type": "code",
   "execution_count": 3,
   "id": "96a45c4d",
   "metadata": {},
   "outputs": [
    {
     "name": "stdout",
     "output_type": "stream",
     "text": [
      "[-1.80433856 -1.32808002 -0.81759336 -0.18076018  0.04005952  0.11215169\n",
      "  0.23268711  0.76884918  0.94580831  1.75441269]\n"
     ]
    }
   ],
   "source": [
    "unsorted.sort()\n",
    "print(unsorted)"
   ]
  },
  {
   "cell_type": "markdown",
   "id": "3a902a39",
   "metadata": {},
   "source": [
    "### Unique element"
   ]
  },
  {
   "cell_type": "code",
   "execution_count": 4,
   "id": "72329843",
   "metadata": {},
   "outputs": [
    {
     "name": "stdout",
     "output_type": "stream",
     "text": [
      "[1 2 3]\n"
     ]
    }
   ],
   "source": [
    "array = np.array([1,2,1,3,2,1,3,2])\n",
    "print(np.unique(array))"
   ]
  },
  {
   "cell_type": "code",
   "execution_count": 5,
   "id": "c74860e0",
   "metadata": {},
   "outputs": [
    {
     "name": "stdout",
     "output_type": "stream",
     "text": [
      "['desk' 'chair' 'bulb'] ['lamb' 'bulb' 'chair']\n"
     ]
    }
   ],
   "source": [
    "s1 = np.array(['desk','chair','bulb'])\n",
    "s2 = np.array(['lamb','bulb','chair'])\n",
    "print(s1, s2)"
   ]
  },
  {
   "cell_type": "code",
   "execution_count": 6,
   "id": "a9facbfd",
   "metadata": {},
   "outputs": [
    {
     "name": "stdout",
     "output_type": "stream",
     "text": [
      "['bulb' 'chair']\n"
     ]
    }
   ],
   "source": [
    "print(np.intersect1d(s1, s2))  # 교집합"
   ]
  },
  {
   "cell_type": "code",
   "execution_count": 7,
   "id": "e0d34f25",
   "metadata": {},
   "outputs": [
    {
     "name": "stdout",
     "output_type": "stream",
     "text": [
      "['bulb' 'chair' 'desk' 'lamb']\n"
     ]
    }
   ],
   "source": [
    "print(np.union1d(s1, s2))  # 합집합"
   ]
  },
  {
   "cell_type": "code",
   "execution_count": 8,
   "id": "4112f5f8",
   "metadata": {},
   "outputs": [
    {
     "name": "stdout",
     "output_type": "stream",
     "text": [
      "['desk']\n"
     ]
    }
   ],
   "source": [
    "print(np.setdiff1d(s1, s2))  # 차집합 s1 - s2"
   ]
  },
  {
   "cell_type": "code",
   "execution_count": 9,
   "id": "16b467e9",
   "metadata": {},
   "outputs": [
    {
     "name": "stdout",
     "output_type": "stream",
     "text": [
      "[False  True  True]\n"
     ]
    }
   ],
   "source": [
    "print(np.in1d(s1, s2))  # 교집합 여부 - bool"
   ]
  },
  {
   "cell_type": "markdown",
   "id": "c23ad4f1",
   "metadata": {},
   "source": [
    "### Broadcasting"
   ]
  },
  {
   "cell_type": "code",
   "execution_count": 10,
   "id": "478dd34a",
   "metadata": {},
   "outputs": [
    {
     "name": "stdout",
     "output_type": "stream",
     "text": [
      "[[0. 0. 0.]\n",
      " [0. 0. 0.]\n",
      " [0. 0. 0.]\n",
      " [0. 0. 0.]]\n"
     ]
    }
   ],
   "source": [
    "start = np.zeros((4,3))\n",
    "print(start)"
   ]
  },
  {
   "cell_type": "code",
   "execution_count": 11,
   "id": "ae165f4d",
   "metadata": {},
   "outputs": [
    {
     "name": "stdout",
     "output_type": "stream",
     "text": [
      "[1 0 2]\n"
     ]
    }
   ],
   "source": [
    "add_rows = np.array([1,0,2])\n",
    "print(add_rows)"
   ]
  },
  {
   "cell_type": "code",
   "execution_count": 12,
   "id": "64687c66",
   "metadata": {},
   "outputs": [
    {
     "name": "stdout",
     "output_type": "stream",
     "text": [
      "[[1. 0. 2.]\n",
      " [1. 0. 2.]\n",
      " [1. 0. 2.]\n",
      " [1. 0. 2.]]\n"
     ]
    }
   ],
   "source": [
    "y = start + add_rows  # 자동으로 브로드캐스팅 됨\n",
    "print(y)"
   ]
  },
  {
   "cell_type": "code",
   "execution_count": 13,
   "id": "ffb9423b",
   "metadata": {},
   "outputs": [
    {
     "name": "stdout",
     "output_type": "stream",
     "text": [
      "[[0]\n",
      " [1]\n",
      " [2]\n",
      " [3]]\n"
     ]
    }
   ],
   "source": [
    "add_cols = np.array([[0,1,2,3]])\n",
    "add_cols = add_cols.T\n",
    "\n",
    "print(add_cols)"
   ]
  },
  {
   "cell_type": "code",
   "execution_count": 14,
   "id": "b1fc0647",
   "metadata": {},
   "outputs": [
    {
     "name": "stdout",
     "output_type": "stream",
     "text": [
      "[[0. 0. 0.]\n",
      " [1. 1. 1.]\n",
      " [2. 2. 2.]\n",
      " [3. 3. 3.]]\n"
     ]
    }
   ],
   "source": [
    "y = start + add_cols\n",
    "print(y)"
   ]
  },
  {
   "cell_type": "code",
   "execution_count": 15,
   "id": "c7babde7",
   "metadata": {},
   "outputs": [
    {
     "name": "stdout",
     "output_type": "stream",
     "text": [
      "[[1. 1. 1.]\n",
      " [1. 1. 1.]\n",
      " [1. 1. 1.]\n",
      " [1. 1. 1.]]\n"
     ]
    }
   ],
   "source": [
    "add_scalar = np.array([1])\n",
    "print(start + add_scalar)"
   ]
  },
  {
   "cell_type": "code",
   "execution_count": 16,
   "id": "d10eb62a",
   "metadata": {},
   "outputs": [
    {
     "name": "stdout",
     "output_type": "stream",
     "text": [
      "[[ 1  2  3  4]\n",
      " [ 5  6  7  8]\n",
      " [ 9 10 11 12]]\n"
     ]
    }
   ],
   "source": [
    "arrA = np.array([[1,2,3,4],[5,6,7,8],[9,10,11,12]])\n",
    "print(arrA)"
   ]
  },
  {
   "cell_type": "code",
   "execution_count": 17,
   "id": "3f97ef68",
   "metadata": {},
   "outputs": [
    {
     "name": "stdout",
     "output_type": "stream",
     "text": [
      "[0, 1, 0, 2]\n"
     ]
    }
   ],
   "source": [
    "arrB = [0,1,0,2]\n",
    "print(arrB)"
   ]
  },
  {
   "cell_type": "code",
   "execution_count": 18,
   "id": "ad73b8dc",
   "metadata": {},
   "outputs": [
    {
     "name": "stdout",
     "output_type": "stream",
     "text": [
      "[[ 1  3  3  6]\n",
      " [ 5  7  7 10]\n",
      " [ 9 11 11 14]]\n"
     ]
    }
   ],
   "source": [
    "print(arrA + arrB)"
   ]
  },
  {
   "cell_type": "markdown",
   "id": "500cd3ff",
   "metadata": {},
   "source": [
    "### Speed Test: ndarrays vs lists"
   ]
  },
  {
   "cell_type": "code",
   "execution_count": 19,
   "id": "cdc304dd",
   "metadata": {},
   "outputs": [],
   "source": [
    "from numpy import arange\n",
    "from timeit import Timer\n",
    "\n",
    "size = 1000000\n",
    "timeits = 1000"
   ]
  },
  {
   "cell_type": "code",
   "execution_count": 20,
   "id": "1986a336",
   "metadata": {},
   "outputs": [
    {
     "name": "stdout",
     "output_type": "stream",
     "text": [
      "<class 'numpy.ndarray'>\n"
     ]
    }
   ],
   "source": [
    "nd_array = arange(size)\n",
    "print(type(nd_array))"
   ]
  },
  {
   "cell_type": "code",
   "execution_count": 21,
   "id": "e1f19ae9",
   "metadata": {},
   "outputs": [
    {
     "name": "stdout",
     "output_type": "stream",
     "text": [
      "Time taken by numpy ndarray: 0.001311 seconds\n"
     ]
    }
   ],
   "source": [
    "timer_numpy = Timer('nd_array.sum()', 'from __main__ import nd_array')\n",
    "print('Time taken by numpy ndarray: %f seconds' % \n",
    "      (timer_numpy.timeit(timeits)/timeits))"
   ]
  },
  {
   "cell_type": "code",
   "execution_count": 22,
   "id": "441d9aae",
   "metadata": {},
   "outputs": [
    {
     "name": "stdout",
     "output_type": "stream",
     "text": [
      "<class 'list'>\n"
     ]
    }
   ],
   "source": [
    "a_list = list(range(size))\n",
    "print(type(a_list))"
   ]
  },
  {
   "cell_type": "code",
   "execution_count": 23,
   "id": "92be3be7",
   "metadata": {},
   "outputs": [
    {
     "name": "stdout",
     "output_type": "stream",
     "text": [
      "Time taken by list: 0.049567 seconds\n"
     ]
    }
   ],
   "source": [
    "timer_list = Timer ('sum(a_list)', 'from __main__ import a_list')\n",
    "print('Time taken by list: %f seconds' %\n",
    "      (timer_list.timeit(timeits)/timeits))"
   ]
  },
  {
   "cell_type": "markdown",
   "id": "1a16be19",
   "metadata": {},
   "source": [
    "#### ndarrays 압승!"
   ]
  },
  {
   "cell_type": "markdown",
   "id": "e7347d83",
   "metadata": {},
   "source": [
    "### Read or Write to Disk"
   ]
  },
  {
   "cell_type": "code",
   "execution_count": 24,
   "id": "460da326",
   "metadata": {},
   "outputs": [],
   "source": [
    "x = np.array([23.23, 24.24])"
   ]
  },
  {
   "cell_type": "code",
   "execution_count": 25,
   "id": "c636aad4",
   "metadata": {},
   "outputs": [],
   "source": [
    "np.save('an_array', x)"
   ]
  },
  {
   "cell_type": "code",
   "execution_count": 26,
   "id": "1eb53a72",
   "metadata": {},
   "outputs": [
    {
     "data": {
      "text/plain": [
       "array([23.23, 24.24])"
      ]
     },
     "execution_count": 26,
     "metadata": {},
     "output_type": "execute_result"
    }
   ],
   "source": [
    "np.load('an_array.npy')"
   ]
  },
  {
   "cell_type": "code",
   "execution_count": 27,
   "id": "ec62578f",
   "metadata": {},
   "outputs": [],
   "source": [
    "np.savetxt('array.txt', X=x, delimiter=',')"
   ]
  },
  {
   "cell_type": "code",
   "execution_count": 28,
   "id": "fca4290f",
   "metadata": {},
   "outputs": [
    {
     "name": "stderr",
     "output_type": "stream",
     "text": [
      "'cat'은(는) 내부 또는 외부 명령, 실행할 수 있는 프로그램, 또는\n",
      "배치 파일이 아닙니다.\n"
     ]
    }
   ],
   "source": [
    "!cat array.txt"
   ]
  },
  {
   "cell_type": "code",
   "execution_count": 29,
   "id": "506765ff",
   "metadata": {},
   "outputs": [
    {
     "data": {
      "text/plain": [
       "array([23.23, 24.24])"
      ]
     },
     "execution_count": 29,
     "metadata": {},
     "output_type": "execute_result"
    }
   ],
   "source": [
    "np.loadtxt('array.txt', delimiter=',')"
   ]
  },
  {
   "cell_type": "code",
   "execution_count": 30,
   "id": "4aa507c6",
   "metadata": {},
   "outputs": [
    {
     "name": "stdout",
     "output_type": "stream",
     "text": [
      "[[4 4]\n",
      " [4 4]]\n",
      "\n",
      "[[4 4]\n",
      " [4 4]]\n"
     ]
    }
   ],
   "source": [
    "x2d = np.array([[1,1],[1,1]])\n",
    "y2d = np.array([[2,2],[2,2]])\n",
    "\n",
    "print(x2d.dot(y2d))\n",
    "print()\n",
    "print(np.dot(x2d, y2d))"
   ]
  },
  {
   "cell_type": "code",
   "execution_count": 31,
   "id": "6d217adc",
   "metadata": {},
   "outputs": [
    {
     "name": "stdout",
     "output_type": "stream",
     "text": [
      "180\n",
      "\n",
      "180\n"
     ]
    }
   ],
   "source": [
    "a1d = np.array([9,9])\n",
    "b1d = np.array([10,10])\n",
    "\n",
    "print(a1d.dot(b1d))\n",
    "print()\n",
    "print(np.dot(a1d, b1d))"
   ]
  },
  {
   "cell_type": "code",
   "execution_count": 32,
   "id": "e6301b3d",
   "metadata": {},
   "outputs": [
    {
     "name": "stdout",
     "output_type": "stream",
     "text": [
      "[18 18]\n",
      "\n",
      "[18 18]\n"
     ]
    }
   ],
   "source": [
    "print(x2d.dot(a1d))\n",
    "print()\n",
    "print(np.dot(x2d, a1d))"
   ]
  },
  {
   "cell_type": "code",
   "execution_count": 33,
   "id": "d152f95e",
   "metadata": {},
   "outputs": [
    {
     "data": {
      "text/plain": [
       "array([-4.58545785e-01, -1.71218624e-01,  1.03700026e+00, -5.08853787e-01,\n",
       "       -1.05439663e+00, -1.28558340e+00, -2.32813898e-03,  2.52141345e+00])"
      ]
     },
     "execution_count": 33,
     "metadata": {},
     "output_type": "execute_result"
    }
   ],
   "source": [
    "x = np.random.randn(8)\n",
    "x"
   ]
  },
  {
   "cell_type": "code",
   "execution_count": 34,
   "id": "123d6f5a",
   "metadata": {},
   "outputs": [
    {
     "data": {
      "text/plain": [
       "array([ 2.36096974, -0.27560871, -0.2163989 , -0.95573004, -1.13858348,\n",
       "        0.18095776,  0.85059438, -0.6896835 ])"
      ]
     },
     "execution_count": 34,
     "metadata": {},
     "output_type": "execute_result"
    }
   ],
   "source": [
    "y = np.random.randn(8)\n",
    "y"
   ]
  },
  {
   "cell_type": "code",
   "execution_count": 35,
   "id": "3e17c524",
   "metadata": {},
   "outputs": [
    {
     "data": {
      "text/plain": [
       "array([ 2.36096974, -0.17121862,  1.03700026, -0.50885379, -1.05439663,\n",
       "        0.18095776,  0.85059438,  2.52141345])"
      ]
     },
     "execution_count": 35,
     "metadata": {},
     "output_type": "execute_result"
    }
   ],
   "source": [
    "np.maximum(x, y)"
   ]
  },
  {
   "cell_type": "code",
   "execution_count": 36,
   "id": "ebaa87b8",
   "metadata": {},
   "outputs": [
    {
     "name": "stdout",
     "output_type": "stream",
     "text": [
      "[ 0  1  2  3  4  5  6  7  8  9 10 11 12 13 14 15 16 17 18 19]\n"
     ]
    }
   ],
   "source": [
    "arr = np.arange(20)\n",
    "print(arr)"
   ]
  },
  {
   "cell_type": "code",
   "execution_count": 39,
   "id": "74e4d6b8",
   "metadata": {},
   "outputs": [
    {
     "data": {
      "text/plain": [
       "array([[ 0,  1,  2,  3,  4],\n",
       "       [ 5,  6,  7,  8,  9],\n",
       "       [10, 11, 12, 13, 14],\n",
       "       [15, 16, 17, 18, 19]])"
      ]
     },
     "execution_count": 39,
     "metadata": {},
     "output_type": "execute_result"
    }
   ],
   "source": [
    "arr.reshape(4,5)"
   ]
  },
  {
   "cell_type": "markdown",
   "id": "fc375ede",
   "metadata": {},
   "source": [
    "### Transpose"
   ]
  },
  {
   "cell_type": "code",
   "execution_count": 40,
   "id": "70e94ab8",
   "metadata": {},
   "outputs": [
    {
     "data": {
      "text/plain": [
       "array([[11, 21],\n",
       "       [12, 22]])"
      ]
     },
     "execution_count": 40,
     "metadata": {},
     "output_type": "execute_result"
    }
   ],
   "source": [
    "ex1 = np.array([[11,12],[21,22]])\n",
    "ex1.T"
   ]
  },
  {
   "cell_type": "markdown",
   "id": "a4e2a4e2",
   "metadata": {},
   "source": [
    "### Indexing using where()"
   ]
  },
  {
   "cell_type": "code",
   "execution_count": 42,
   "id": "4d24b7df",
   "metadata": {},
   "outputs": [],
   "source": [
    "x_1 = np.array([1,2,3,4,5])\n",
    "y_1 = np.array([11,22,33,44,55])\n",
    "\n",
    "filter = np.array([True, False, True, False, True])"
   ]
  },
  {
   "cell_type": "code",
   "execution_count": 44,
   "id": "86baa9d7",
   "metadata": {},
   "outputs": [
    {
     "name": "stdout",
     "output_type": "stream",
     "text": [
      "[ 1 22  3 44  5]\n"
     ]
    }
   ],
   "source": [
    "output = np.where(filter, x_1, y_1)  # True이면 x_1, False이면 y_1\n",
    "print(output)"
   ]
  },
  {
   "cell_type": "code",
   "execution_count": 45,
   "id": "cf54cb7e",
   "metadata": {},
   "outputs": [
    {
     "data": {
      "text/plain": [
       "array([[1.56227909e-01, 8.61490133e-01, 9.07347360e-01, 3.86482483e-01,\n",
       "        9.19638111e-04],\n",
       "       [3.92265412e-01, 9.63211743e-01, 1.88034137e-01, 9.70427752e-01,\n",
       "        1.29716613e-01],\n",
       "       [9.97209701e-01, 3.84240549e-01, 1.11021276e-01, 4.38714476e-01,\n",
       "        1.99721520e-01],\n",
       "       [1.49838517e-02, 9.04020328e-01, 5.23618662e-01, 9.70876837e-01,\n",
       "        8.42420853e-01],\n",
       "       [3.31605998e-01, 6.60315090e-01, 5.28995195e-01, 8.74074885e-01,\n",
       "        2.37328616e-01]])"
      ]
     },
     "execution_count": 45,
     "metadata": {},
     "output_type": "execute_result"
    }
   ],
   "source": [
    "mat = np.random.rand(5,5)\n",
    "mat"
   ]
  },
  {
   "cell_type": "code",
   "execution_count": 46,
   "id": "33d5ca59",
   "metadata": {},
   "outputs": [
    {
     "data": {
      "text/plain": [
       "array([[  -1, 1000, 1000,   -1,   -1],\n",
       "       [  -1, 1000,   -1, 1000,   -1],\n",
       "       [1000,   -1,   -1,   -1,   -1],\n",
       "       [  -1, 1000, 1000, 1000, 1000],\n",
       "       [  -1, 1000, 1000, 1000,   -1]])"
      ]
     },
     "execution_count": 46,
     "metadata": {},
     "output_type": "execute_result"
    }
   ],
   "source": [
    "np.where(mat > 0.5, 1000, -1)"
   ]
  },
  {
   "cell_type": "code",
   "execution_count": 47,
   "id": "ba3a358c",
   "metadata": {},
   "outputs": [],
   "source": [
    "arr_bools = np.array([True, False, True, True, False])"
   ]
  },
  {
   "cell_type": "code",
   "execution_count": 49,
   "id": "8951e8d2",
   "metadata": {},
   "outputs": [
    {
     "data": {
      "text/plain": [
       "True"
      ]
     },
     "execution_count": 49,
     "metadata": {},
     "output_type": "execute_result"
    }
   ],
   "source": [
    "arr_bools.any()"
   ]
  },
  {
   "cell_type": "code",
   "execution_count": 51,
   "id": "0a1efd69",
   "metadata": {},
   "outputs": [
    {
     "data": {
      "text/plain": [
       "False"
      ]
     },
     "execution_count": 51,
     "metadata": {},
     "output_type": "execute_result"
    }
   ],
   "source": [
    "arr_bools.all()"
   ]
  },
  {
   "cell_type": "markdown",
   "id": "3829c399",
   "metadata": {},
   "source": [
    "### Random Number Generation"
   ]
  },
  {
   "cell_type": "code",
   "execution_count": 52,
   "id": "01ad355b",
   "metadata": {},
   "outputs": [
    {
     "name": "stdout",
     "output_type": "stream",
     "text": [
      "[ 0.13751118 -0.36051848  0.56412635  0.71688954  0.6113688 ]\n"
     ]
    }
   ],
   "source": [
    "Y = np.random.normal(size = (1, 5))[0]\n",
    "print(Y)"
   ]
  },
  {
   "cell_type": "code",
   "execution_count": 54,
   "id": "102f23ed",
   "metadata": {},
   "outputs": [
    {
     "name": "stdout",
     "output_type": "stream",
     "text": [
      "[13 10 11 26]\n"
     ]
    }
   ],
   "source": [
    "Z = np.random.randint(low=2, high=50, size=4)\n",
    "print(Z)"
   ]
  },
  {
   "cell_type": "code",
   "execution_count": 55,
   "id": "b6ed8605",
   "metadata": {},
   "outputs": [
    {
     "data": {
      "text/plain": [
       "array([13, 11, 26, 10])"
      ]
     },
     "execution_count": 55,
     "metadata": {},
     "output_type": "execute_result"
    }
   ],
   "source": [
    "np.random.permutation(Z)  # 순서 섞기"
   ]
  },
  {
   "cell_type": "code",
   "execution_count": 56,
   "id": "d77779e6",
   "metadata": {},
   "outputs": [
    {
     "data": {
      "text/plain": [
       "array([0.31310356, 0.88988607, 0.16953379, 0.04956809])"
      ]
     },
     "execution_count": 56,
     "metadata": {},
     "output_type": "execute_result"
    }
   ],
   "source": [
    "np.random.uniform(size=4)  # 0 ~ 1"
   ]
  },
  {
   "cell_type": "code",
   "execution_count": 57,
   "id": "cd4ded01",
   "metadata": {},
   "outputs": [
    {
     "data": {
      "text/plain": [
       "array([ 1.43261596, -1.38905639, -0.22990898,  1.83483447])"
      ]
     },
     "execution_count": 57,
     "metadata": {},
     "output_type": "execute_result"
    }
   ],
   "source": [
    "np.random.normal(size=4)"
   ]
  },
  {
   "cell_type": "markdown",
   "id": "29794fe3",
   "metadata": {},
   "source": [
    "### Merging data sets"
   ]
  },
  {
   "cell_type": "code",
   "execution_count": 58,
   "id": "436dfdc5",
   "metadata": {},
   "outputs": [
    {
     "name": "stdout",
     "output_type": "stream",
     "text": [
      "[[43 24]\n",
      " [ 3 16]]\n",
      "\n",
      "[[ 4 39]\n",
      " [36 26]]\n"
     ]
    }
   ],
   "source": [
    "K = np.random.randint(low=2, high=50, size=(2,2))\n",
    "print(K)\n",
    "print()\n",
    "M = np.random.randint(low=2, high=50, size=(2,2))\n",
    "print(M)"
   ]
  },
  {
   "cell_type": "code",
   "execution_count": 59,
   "id": "b88257be",
   "metadata": {},
   "outputs": [
    {
     "data": {
      "text/plain": [
       "array([[43, 24],\n",
       "       [ 3, 16],\n",
       "       [ 4, 39],\n",
       "       [36, 26]])"
      ]
     },
     "execution_count": 59,
     "metadata": {},
     "output_type": "execute_result"
    }
   ],
   "source": [
    "np.vstack((K, M))"
   ]
  },
  {
   "cell_type": "code",
   "execution_count": 60,
   "id": "e374af7b",
   "metadata": {},
   "outputs": [
    {
     "data": {
      "text/plain": [
       "array([[43, 24,  4, 39],\n",
       "       [ 3, 16, 36, 26]])"
      ]
     },
     "execution_count": 60,
     "metadata": {},
     "output_type": "execute_result"
    }
   ],
   "source": [
    "np.hstack((K, M))"
   ]
  },
  {
   "cell_type": "code",
   "execution_count": 61,
   "id": "f5d6acbe",
   "metadata": {},
   "outputs": [
    {
     "data": {
      "text/plain": [
       "array([[43, 24],\n",
       "       [ 3, 16],\n",
       "       [ 4, 39],\n",
       "       [36, 26]])"
      ]
     },
     "execution_count": 61,
     "metadata": {},
     "output_type": "execute_result"
    }
   ],
   "source": [
    "np.concatenate([K,M], axis=0)"
   ]
  },
  {
   "cell_type": "code",
   "execution_count": 62,
   "id": "01b77ef3",
   "metadata": {},
   "outputs": [
    {
     "data": {
      "text/plain": [
       "array([[43, 24,  4, 36],\n",
       "       [ 3, 16, 39, 26]])"
      ]
     },
     "execution_count": 62,
     "metadata": {},
     "output_type": "execute_result"
    }
   ],
   "source": [
    "np.concatenate([K,M.T], axis=1)"
   ]
  },
  {
   "cell_type": "code",
   "execution_count": null,
   "id": "ddc69338",
   "metadata": {},
   "outputs": [],
   "source": []
  }
 ],
 "metadata": {
  "kernelspec": {
   "display_name": "Python 3",
   "language": "python",
   "name": "python3"
  },
  "language_info": {
   "codemirror_mode": {
    "name": "ipython",
    "version": 3
   },
   "file_extension": ".py",
   "mimetype": "text/x-python",
   "name": "python",
   "nbconvert_exporter": "python",
   "pygments_lexer": "ipython3",
   "version": "3.8.8"
  }
 },
 "nbformat": 4,
 "nbformat_minor": 5
}
